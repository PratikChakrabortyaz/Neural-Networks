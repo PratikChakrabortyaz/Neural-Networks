{
 "cells": [
  {
   "cell_type": "code",
   "execution_count": 1,
   "metadata": {},
   "outputs": [],
   "source": [
    "import torchvision\n",
    "import torchvision.transforms as transforms\n",
    "import torch\n",
    "\n"
   ]
  },
  {
   "cell_type": "code",
   "execution_count": 2,
   "metadata": {},
   "outputs": [
    {
     "name": "stdout",
     "output_type": "stream",
     "text": [
      "Files already downloaded and verified\n",
      "Files already downloaded and verified\n",
      "Image batch shape: torch.Size([4, 3, 32, 32])\n",
      "Label batch shape: torch.Size([4])\n"
     ]
    }
   ],
   "source": [
    "# Define data transforms\n",
    "transform = transforms.Compose([\n",
    "    transforms.ToTensor(),\n",
    "])\n",
    "\n",
    "# Load CIFAR-10 dataset\n",
    "trainset = torchvision.datasets.CIFAR10(root='./data', train=True, download=True, transform=transform)\n",
    "trainloader = torch.utils.data.DataLoader(trainset, batch_size=4, shuffle=True, num_workers=2)\n",
    "\n",
    "testset = torchvision.datasets.CIFAR10(root='./data', train=False, download=True, transform=transform)\n",
    "testloader = torch.utils.data.DataLoader(testset, batch_size=4, shuffle=False, num_workers=2)\n",
    "\n",
    "classes = ('plane', 'car', 'bird', 'cat',\n",
    "           'deer', 'dog', 'frog', 'horse', 'ship', 'truck')\n",
    "\n",
    "# Example of iterating through the dataset\n",
    "dataiter = iter(trainloader)\n",
    "images, labels = next(dataiter)\n",
    "print('Image batch shape:', images.shape)\n",
    "print('Label batch shape:', labels.shape)\n"
   ]
  },
  {
   "cell_type": "code",
   "execution_count": 3,
   "metadata": {},
   "outputs": [
    {
     "data": {
      "image/png": "[encoded data removed]",
      "text/plain": [
       "<Figure size 640x480 with 1 Axes>"
      ]
     },
     "metadata": {},
     "output_type": "display_data"
    },
    {
     "name": "stdout",
     "output_type": "stream",
     "text": [
      "  car  deer plane plane\n"
     ]
    }
   ],
   "source": [
    "import matplotlib.pyplot as plt\n",
    "import numpy as np\n",
    "\n",
    "# function to show an image\n",
    "def imshow(img):\n",
    "    img = img / 2 + 0.5     # unnormalize\n",
    "    npimg = img.numpy()\n",
    "    plt.imshow(np.transpose(npimg, (1, 2, 0)))\n",
    "    plt.show()\n",
    "\n",
    "# get some random training images\n",
    "dataiter = iter(trainloader)\n",
    "images, labels = next(dataiter)\n",
    "\n",
    "# show images\n",
    "imshow(torchvision.utils.make_grid(images))\n",
    "# print labels\n",
    "print(' '.join('%5s' % classes[labels[j]] for j in range(4)))\n"
   ]
  },
  {
   "cell_type": "code",
   "execution_count": 7,
   "metadata": {},
   "outputs": [
    {
     "name": "stdout",
     "output_type": "stream",
     "text": [
      "Training dataset size: 50000\n",
      "Testing dataset size: 10000\n"
     ]
    }
   ],
   "source": [
    "print(\"Training dataset size:\", len(trainset))\n",
    "print(\"Testing dataset size:\", len(testset))\n"
   ]
  },
  {
   "cell_type": "code",
   "execution_count": 7,
   "metadata": {},
   "outputs": [],
   "source": [
    "# Select only 100 images\n",
    "trainset_small = torch.utils.data.Subset(trainset, range(300))\n",
    "\n",
    "# Create data loader\n",
    "trainloader = torch.utils.data.DataLoader(trainset_small, batch_size=4, shuffle=True, num_workers=2)"
   ]
  },
  {
   "cell_type": "code",
   "execution_count": 13,
   "metadata": {},
   "outputs": [
    {
     "name": "stdout",
     "output_type": "stream",
     "text": [
      "Class 0: 23 images\n",
      "Class 1: 42 images\n",
      "Class 2: 27 images\n",
      "Class 3: 30 images\n",
      "Class 4: 26 images\n",
      "Class 5: 26 images\n",
      "Class 6: 36 images\n",
      "Class 7: 28 images\n",
      "Class 8: 26 images\n",
      "Class 9: 36 images\n",
      "All classes have images in the smaller training set.\n"
     ]
    }
   ],
   "source": [
    "# Get the labels from the smaller dataset\n",
    "labels = np.array([label for _, label in trainset_small])\n",
    "\n",
    "# Count occurrences of each class label\n",
    "class_counts = np.bincount(labels, minlength=10)\n",
    "\n",
    "# Print the counts for each class\n",
    "for i, count in enumerate(class_counts):\n",
    "    print(f\"Class {i}: {count} images\")\n",
    "\n",
    "# Check if any class has zero images\n",
    "if np.any(class_counts == 0):\n",
    "    print(\"Warning: Some classes have zero images in the smaller training set.\")\n",
    "else:\n",
    "    print(\"All classes have images in the smaller training set.\")"
   ]
  },
  {
   "cell_type": "code",
   "execution_count": 4,
   "metadata": {},
   "outputs": [],
   "source": [
    "import torch.nn as nn\n",
    "import torch.optim as optim"
   ]
  },
  {
   "cell_type": "code",
   "execution_count": 15,
   "metadata": {},
   "outputs": [],
   "source": [
    "class SimpleNN(nn.Module):\n",
    "    def __init__(self):\n",
    "        super(SimpleNN, self).__init__()\n",
    "        self.fc1 = nn.Linear(3 * 32 * 32, 120)  # Input size is 3x32x32 for CIFAR-10 images\n",
    "        self.fc2 = nn.Linear(120, 84)\n",
    "        self.fc3 = nn.Linear(84, 64)\n",
    "        self.fc4 = nn.Linear(64, 10)  # Output size is 10 for 10 classes in CIFAR-10\n",
    "\n",
    "    def forward(self, x):\n",
    "        x = x.view(-1, 3 * 32 * 32)  # Flatten the input\n",
    "        x = torch.relu(self.fc1(x))\n",
    "        x = torch.relu(self.fc2(x))\n",
    "        x = torch.relu(self.fc3(x))\n",
    "        x = self.fc4(x)\n",
    "        return x"
   ]
  },
  {
   "cell_type": "code",
   "execution_count": 16,
   "metadata": {},
   "outputs": [],
   "source": [
    "net = SimpleNN()\n",
    "\n",
    "# Define loss function and optimizer\n",
    "criterion = nn.CrossEntropyLoss()\n",
    "optimizer = optim.SGD(net.parameters(), lr=0.001, momentum=0.9)\n"
   ]
  },
  {
   "cell_type": "code",
   "execution_count": 17,
   "metadata": {},
   "outputs": [
    {
     "name": "stdout",
     "output_type": "stream",
     "text": [
      "[Epoch 1, Mini-batch    10] Loss: 2.302\n",
      "[Epoch 1, Mini-batch    20] Loss: 2.299\n",
      "[Epoch 1, Mini-batch    30] Loss: 2.304\n",
      "[Epoch 1, Mini-batch    40] Loss: 2.302\n",
      "[Epoch 1, Mini-batch    50] Loss: 2.305\n",
      "[Epoch 1, Mini-batch    60] Loss: 2.302\n",
      "[Epoch 1, Mini-batch    70] Loss: 2.292\n",
      "[Epoch 2, Mini-batch    10] Loss: 2.287\n",
      "[Epoch 2, Mini-batch    20] Loss: 2.294\n",
      "[Epoch 2, Mini-batch    30] Loss: 2.289\n",
      "[Epoch 2, Mini-batch    40] Loss: 2.290\n",
      "[Epoch 2, Mini-batch    50] Loss: 2.287\n",
      "[Epoch 2, Mini-batch    60] Loss: 2.302\n",
      "[Epoch 2, Mini-batch    70] Loss: 2.309\n",
      "[Epoch 3, Mini-batch    10] Loss: 2.294\n",
      "[Epoch 3, Mini-batch    20] Loss: 2.287\n",
      "[Epoch 3, Mini-batch    30] Loss: 2.280\n",
      "[Epoch 3, Mini-batch    40] Loss: 2.275\n",
      "[Epoch 3, Mini-batch    50] Loss: 2.292\n",
      "[Epoch 3, Mini-batch    60] Loss: 2.284\n",
      "[Epoch 3, Mini-batch    70] Loss: 2.287\n",
      "[Epoch 4, Mini-batch    10] Loss: 2.254\n",
      "[Epoch 4, Mini-batch    20] Loss: 2.285\n",
      "[Epoch 4, Mini-batch    30] Loss: 2.297\n",
      "[Epoch 4, Mini-batch    40] Loss: 2.269\n",
      "[Epoch 4, Mini-batch    50] Loss: 2.291\n",
      "[Epoch 4, Mini-batch    60] Loss: 2.284\n",
      "[Epoch 4, Mini-batch    70] Loss: 2.299\n",
      "[Epoch 5, Mini-batch    10] Loss: 2.280\n",
      "[Epoch 5, Mini-batch    20] Loss: 2.244\n",
      "[Epoch 5, Mini-batch    30] Loss: 2.290\n",
      "[Epoch 5, Mini-batch    40] Loss: 2.293\n",
      "[Epoch 5, Mini-batch    50] Loss: 2.290\n",
      "[Epoch 5, Mini-batch    60] Loss: 2.253\n",
      "[Epoch 5, Mini-batch    70] Loss: 2.241\n",
      "[Epoch 6, Mini-batch    10] Loss: 2.259\n",
      "[Epoch 6, Mini-batch    20] Loss: 2.235\n",
      "[Epoch 6, Mini-batch    30] Loss: 2.245\n",
      "[Epoch 6, Mini-batch    40] Loss: 2.233\n",
      "[Epoch 6, Mini-batch    50] Loss: 2.343\n",
      "[Epoch 6, Mini-batch    60] Loss: 2.250\n",
      "[Epoch 6, Mini-batch    70] Loss: 2.282\n",
      "[Epoch 7, Mini-batch    10] Loss: 2.268\n",
      "[Epoch 7, Mini-batch    20] Loss: 2.238\n",
      "[Epoch 7, Mini-batch    30] Loss: 2.158\n",
      "[Epoch 7, Mini-batch    40] Loss: 2.235\n",
      "[Epoch 7, Mini-batch    50] Loss: 2.312\n",
      "[Epoch 7, Mini-batch    60] Loss: 2.279\n",
      "[Epoch 7, Mini-batch    70] Loss: 2.262\n",
      "[Epoch 8, Mini-batch    10] Loss: 2.228\n",
      "[Epoch 8, Mini-batch    20] Loss: 2.239\n",
      "[Epoch 8, Mini-batch    30] Loss: 2.231\n",
      "[Epoch 8, Mini-batch    40] Loss: 2.191\n",
      "[Epoch 8, Mini-batch    50] Loss: 2.266\n",
      "[Epoch 8, Mini-batch    60] Loss: 2.223\n",
      "[Epoch 8, Mini-batch    70] Loss: 2.213\n",
      "[Epoch 9, Mini-batch    10] Loss: 2.190\n",
      "[Epoch 9, Mini-batch    20] Loss: 2.132\n",
      "[Epoch 9, Mini-batch    30] Loss: 2.241\n",
      "[Epoch 9, Mini-batch    40] Loss: 2.187\n",
      "[Epoch 9, Mini-batch    50] Loss: 2.189\n",
      "[Epoch 9, Mini-batch    60] Loss: 2.208\n",
      "[Epoch 9, Mini-batch    70] Loss: 2.181\n",
      "[Epoch 10, Mini-batch    10] Loss: 2.138\n",
      "[Epoch 10, Mini-batch    20] Loss: 2.087\n",
      "[Epoch 10, Mini-batch    30] Loss: 2.199\n",
      "[Epoch 10, Mini-batch    40] Loss: 2.151\n",
      "[Epoch 10, Mini-batch    50] Loss: 2.169\n",
      "[Epoch 10, Mini-batch    60] Loss: 2.115\n",
      "[Epoch 10, Mini-batch    70] Loss: 2.169\n",
      "Finished Training\n"
     ]
    }
   ],
   "source": [
    "# Number of epochs\n",
    "num_epochs = 10\n",
    "\n",
    "# Training loop\n",
    "for epoch in range(num_epochs):\n",
    "    running_loss = 0.0\n",
    "    for i, data in enumerate(trainloader, 0):\n",
    "        inputs, labels = data\n",
    "\n",
    "        # Zero the parameter gradients\n",
    "        optimizer.zero_grad()\n",
    "\n",
    "        # Forward pass\n",
    "        outputs = net(inputs)\n",
    "        loss = criterion(outputs, labels)\n",
    "\n",
    "        # Backward pass and optimization\n",
    "        loss.backward()\n",
    "        optimizer.step()\n",
    "\n",
    "        # Print statistics\n",
    "        running_loss += loss.item()\n",
    "        if i % 10 == 9:    # Print every 10 mini-batches\n",
    "            print('[Epoch %d, Mini-batch %5d] Loss: %.3f' %\n",
    "                  (epoch + 1, i + 1, running_loss / 10))\n",
    "            running_loss = 0.0\n",
    "\n",
    "print('Finished Training')\n"
   ]
  },
  {
   "cell_type": "code",
   "execution_count": 18,
   "metadata": {},
   "outputs": [
    {
     "name": "stdout",
     "output_type": "stream",
     "text": [
      "[Epoch 1, Mini-batch    10] Loss: 2.114 | Accuracy: 15.00 %\n",
      "[Epoch 1, Mini-batch    20] Loss: 1.995 | Accuracy: 27.50 %\n",
      "[Epoch 1, Mini-batch    30] Loss: 2.116 | Accuracy: 29.17 %\n",
      "[Epoch 1, Mini-batch    40] Loss: 2.227 | Accuracy: 25.00 %\n",
      "[Epoch 1, Mini-batch    50] Loss: 2.193 | Accuracy: 24.50 %\n",
      "[Epoch 1, Mini-batch    60] Loss: 2.231 | Accuracy: 22.50 %\n",
      "[Epoch 1, Mini-batch    70] Loss: 2.053 | Accuracy: 23.57 %\n",
      "[Epoch 2, Mini-batch    10] Loss: 2.185 | Accuracy: 22.50 %\n",
      "[Epoch 2, Mini-batch    20] Loss: 2.034 | Accuracy: 23.75 %\n",
      "[Epoch 2, Mini-batch    30] Loss: 2.082 | Accuracy: 22.50 %\n",
      "[Epoch 2, Mini-batch    40] Loss: 2.069 | Accuracy: 22.50 %\n",
      "[Epoch 2, Mini-batch    50] Loss: 2.108 | Accuracy: 20.50 %\n",
      "[Epoch 2, Mini-batch    60] Loss: 2.019 | Accuracy: 22.50 %\n",
      "[Epoch 2, Mini-batch    70] Loss: 2.060 | Accuracy: 23.93 %\n",
      "[Epoch 3, Mini-batch    10] Loss: 1.967 | Accuracy: 30.00 %\n",
      "[Epoch 3, Mini-batch    20] Loss: 2.127 | Accuracy: 21.25 %\n",
      "[Epoch 3, Mini-batch    30] Loss: 2.055 | Accuracy: 21.67 %\n",
      "[Epoch 3, Mini-batch    40] Loss: 1.912 | Accuracy: 26.88 %\n",
      "[Epoch 3, Mini-batch    50] Loss: 2.171 | Accuracy: 24.00 %\n",
      "[Epoch 3, Mini-batch    60] Loss: 2.069 | Accuracy: 24.17 %\n",
      "[Epoch 3, Mini-batch    70] Loss: 2.027 | Accuracy: 24.64 %\n",
      "[Epoch 4, Mini-batch    10] Loss: 2.088 | Accuracy: 17.50 %\n",
      "[Epoch 4, Mini-batch    20] Loss: 1.899 | Accuracy: 26.25 %\n",
      "[Epoch 4, Mini-batch    30] Loss: 2.133 | Accuracy: 25.83 %\n",
      "[Epoch 4, Mini-batch    40] Loss: 2.040 | Accuracy: 26.88 %\n",
      "[Epoch 4, Mini-batch    50] Loss: 1.962 | Accuracy: 27.00 %\n",
      "[Epoch 4, Mini-batch    60] Loss: 1.984 | Accuracy: 27.50 %\n",
      "[Epoch 4, Mini-batch    70] Loss: 2.047 | Accuracy: 27.14 %\n",
      "[Epoch 5, Mini-batch    10] Loss: 1.844 | Accuracy: 37.50 %\n",
      "[Epoch 5, Mini-batch    20] Loss: 2.044 | Accuracy: 28.75 %\n",
      "[Epoch 5, Mini-batch    30] Loss: 1.963 | Accuracy: 28.33 %\n",
      "[Epoch 5, Mini-batch    40] Loss: 1.874 | Accuracy: 30.62 %\n",
      "[Epoch 5, Mini-batch    50] Loss: 2.197 | Accuracy: 29.00 %\n",
      "[Epoch 5, Mini-batch    60] Loss: 1.991 | Accuracy: 27.92 %\n",
      "[Epoch 5, Mini-batch    70] Loss: 1.978 | Accuracy: 27.14 %\n",
      "[Epoch 6, Mini-batch    10] Loss: 2.111 | Accuracy: 15.00 %\n",
      "[Epoch 6, Mini-batch    20] Loss: 1.868 | Accuracy: 21.25 %\n",
      "[Epoch 6, Mini-batch    30] Loss: 2.030 | Accuracy: 22.50 %\n",
      "[Epoch 6, Mini-batch    40] Loss: 1.973 | Accuracy: 23.75 %\n",
      "[Epoch 6, Mini-batch    50] Loss: 1.919 | Accuracy: 23.50 %\n",
      "[Epoch 6, Mini-batch    60] Loss: 2.071 | Accuracy: 24.17 %\n",
      "[Epoch 6, Mini-batch    70] Loss: 1.867 | Accuracy: 26.07 %\n",
      "[Epoch 7, Mini-batch    10] Loss: 1.809 | Accuracy: 27.50 %\n",
      "[Epoch 7, Mini-batch    20] Loss: 1.934 | Accuracy: 30.00 %\n",
      "[Epoch 7, Mini-batch    30] Loss: 1.947 | Accuracy: 29.17 %\n",
      "[Epoch 7, Mini-batch    40] Loss: 1.940 | Accuracy: 28.12 %\n",
      "[Epoch 7, Mini-batch    50] Loss: 2.011 | Accuracy: 28.50 %\n",
      "[Epoch 7, Mini-batch    60] Loss: 1.907 | Accuracy: 29.17 %\n",
      "[Epoch 7, Mini-batch    70] Loss: 1.850 | Accuracy: 30.00 %\n",
      "[Epoch 8, Mini-batch    10] Loss: 1.861 | Accuracy: 30.00 %\n",
      "[Epoch 8, Mini-batch    20] Loss: 1.817 | Accuracy: 32.50 %\n",
      "[Epoch 8, Mini-batch    30] Loss: 2.024 | Accuracy: 31.67 %\n",
      "[Epoch 8, Mini-batch    40] Loss: 1.939 | Accuracy: 29.38 %\n",
      "[Epoch 8, Mini-batch    50] Loss: 1.950 | Accuracy: 28.00 %\n",
      "[Epoch 8, Mini-batch    60] Loss: 1.913 | Accuracy: 27.92 %\n",
      "[Epoch 8, Mini-batch    70] Loss: 1.947 | Accuracy: 27.50 %\n",
      "[Epoch 9, Mini-batch    10] Loss: 1.839 | Accuracy: 32.50 %\n",
      "[Epoch 9, Mini-batch    20] Loss: 1.820 | Accuracy: 32.50 %\n",
      "[Epoch 9, Mini-batch    30] Loss: 1.932 | Accuracy: 30.00 %\n",
      "[Epoch 9, Mini-batch    40] Loss: 1.843 | Accuracy: 31.88 %\n",
      "[Epoch 9, Mini-batch    50] Loss: 1.925 | Accuracy: 30.50 %\n",
      "[Epoch 9, Mini-batch    60] Loss: 1.762 | Accuracy: 33.33 %\n",
      "[Epoch 9, Mini-batch    70] Loss: 1.800 | Accuracy: 33.57 %\n",
      "[Epoch 10, Mini-batch    10] Loss: 1.888 | Accuracy: 35.00 %\n",
      "[Epoch 10, Mini-batch    20] Loss: 1.792 | Accuracy: 32.50 %\n",
      "[Epoch 10, Mini-batch    30] Loss: 1.858 | Accuracy: 32.50 %\n",
      "[Epoch 10, Mini-batch    40] Loss: 1.805 | Accuracy: 32.50 %\n",
      "[Epoch 10, Mini-batch    50] Loss: 1.788 | Accuracy: 32.50 %\n",
      "[Epoch 10, Mini-batch    60] Loss: 1.819 | Accuracy: 33.33 %\n",
      "[Epoch 10, Mini-batch    70] Loss: 1.973 | Accuracy: 32.86 %\n",
      "Finished Training\n"
     ]
    }
   ],
   "source": [
    "# Training loop\n",
    "for epoch in range(num_epochs):\n",
    "    running_loss = 0.0\n",
    "    correct = 0\n",
    "    total = 0\n",
    "    for i, data in enumerate(trainloader, 0):\n",
    "        inputs, labels = data\n",
    "\n",
    "        # Zero the parameter gradients\n",
    "        optimizer.zero_grad()\n",
    "\n",
    "        # Forward pass\n",
    "        outputs = net(inputs)\n",
    "        loss = criterion(outputs, labels)\n",
    "\n",
    "        # Backward pass and optimization\n",
    "        loss.backward()\n",
    "        optimizer.step()\n",
    "\n",
    "        # Compute accuracy\n",
    "        _, predicted = torch.max(outputs, 1)\n",
    "        total += labels.size(0)\n",
    "        correct += (predicted == labels).sum().item()\n",
    "\n",
    "        # Print statistics\n",
    "        running_loss += loss.item()\n",
    "        if i % 10 == 9:    # Print every 10 mini-batches\n",
    "            print('[Epoch %d, Mini-batch %5d] Loss: %.3f | Accuracy: %.2f %%' %\n",
    "                  (epoch + 1, i + 1, running_loss / 10, 100 * correct / total))\n",
    "            running_loss = 0.0\n",
    "\n",
    "print('Finished Training')\n"
   ]
  },
  {
   "cell_type": "code",
   "execution_count": 20,
   "metadata": {},
   "outputs": [
    {
     "name": "stdout",
     "output_type": "stream",
     "text": [
      "[Epoch 1, Mini-batch    10] Loss: 2.303 | Accuracy: 12.50 %\n",
      "[Epoch 1, Mini-batch    20] Loss: 2.341 | Accuracy: 11.25 %\n",
      "[Epoch 1, Mini-batch    30] Loss: 2.394 | Accuracy: 10.83 %\n",
      "[Epoch 1, Mini-batch    40] Loss: 2.334 | Accuracy: 11.25 %\n",
      "[Epoch 1, Mini-batch    50] Loss: 2.330 | Accuracy: 9.50 %\n",
      "[Epoch 1, Mini-batch    60] Loss: 2.309 | Accuracy: 9.58 %\n",
      "[Epoch 1, Mini-batch    70] Loss: 2.292 | Accuracy: 10.36 %\n",
      "[Epoch 2, Mini-batch    10] Loss: 2.213 | Accuracy: 17.50 %\n",
      "[Epoch 2, Mini-batch    20] Loss: 2.296 | Accuracy: 13.75 %\n",
      "[Epoch 2, Mini-batch    30] Loss: 2.211 | Accuracy: 10.83 %\n",
      "[Epoch 2, Mini-batch    40] Loss: 2.299 | Accuracy: 12.50 %\n",
      "[Epoch 2, Mini-batch    50] Loss: 2.286 | Accuracy: 11.50 %\n",
      "[Epoch 2, Mini-batch    60] Loss: 2.275 | Accuracy: 10.83 %\n",
      "[Epoch 2, Mini-batch    70] Loss: 2.182 | Accuracy: 12.14 %\n",
      "[Epoch 3, Mini-batch    10] Loss: 2.142 | Accuracy: 20.00 %\n",
      "[Epoch 3, Mini-batch    20] Loss: 2.233 | Accuracy: 16.25 %\n",
      "[Epoch 3, Mini-batch    30] Loss: 2.155 | Accuracy: 14.17 %\n",
      "[Epoch 3, Mini-batch    40] Loss: 2.165 | Accuracy: 14.38 %\n",
      "[Epoch 3, Mini-batch    50] Loss: 2.165 | Accuracy: 16.00 %\n",
      "[Epoch 3, Mini-batch    60] Loss: 2.087 | Accuracy: 16.67 %\n",
      "[Epoch 3, Mini-batch    70] Loss: 2.108 | Accuracy: 16.43 %\n",
      "[Epoch 4, Mini-batch    10] Loss: 2.217 | Accuracy: 10.00 %\n",
      "[Epoch 4, Mini-batch    20] Loss: 2.085 | Accuracy: 13.75 %\n",
      "[Epoch 4, Mini-batch    30] Loss: 2.066 | Accuracy: 18.33 %\n",
      "[Epoch 4, Mini-batch    40] Loss: 2.046 | Accuracy: 19.38 %\n",
      "[Epoch 4, Mini-batch    50] Loss: 2.056 | Accuracy: 19.50 %\n",
      "[Epoch 4, Mini-batch    60] Loss: 2.076 | Accuracy: 19.17 %\n",
      "[Epoch 4, Mini-batch    70] Loss: 2.053 | Accuracy: 20.00 %\n",
      "[Epoch 5, Mini-batch    10] Loss: 1.942 | Accuracy: 27.50 %\n",
      "[Epoch 5, Mini-batch    20] Loss: 2.250 | Accuracy: 15.00 %\n",
      "[Epoch 5, Mini-batch    30] Loss: 2.077 | Accuracy: 14.17 %\n",
      "[Epoch 5, Mini-batch    40] Loss: 2.033 | Accuracy: 18.12 %\n",
      "[Epoch 5, Mini-batch    50] Loss: 1.995 | Accuracy: 20.00 %\n",
      "[Epoch 5, Mini-batch    60] Loss: 2.057 | Accuracy: 20.00 %\n",
      "[Epoch 5, Mini-batch    70] Loss: 2.080 | Accuracy: 19.64 %\n",
      "[Epoch 6, Mini-batch    10] Loss: 1.956 | Accuracy: 25.00 %\n",
      "[Epoch 6, Mini-batch    20] Loss: 2.176 | Accuracy: 23.75 %\n",
      "[Epoch 6, Mini-batch    30] Loss: 1.993 | Accuracy: 20.83 %\n",
      "[Epoch 6, Mini-batch    40] Loss: 2.065 | Accuracy: 20.62 %\n",
      "[Epoch 6, Mini-batch    50] Loss: 2.098 | Accuracy: 20.50 %\n",
      "[Epoch 6, Mini-batch    60] Loss: 1.969 | Accuracy: 20.00 %\n",
      "[Epoch 6, Mini-batch    70] Loss: 1.861 | Accuracy: 21.43 %\n",
      "[Epoch 7, Mini-batch    10] Loss: 2.106 | Accuracy: 27.50 %\n",
      "[Epoch 7, Mini-batch    20] Loss: 2.129 | Accuracy: 25.00 %\n",
      "[Epoch 7, Mini-batch    30] Loss: 1.929 | Accuracy: 23.33 %\n",
      "[Epoch 7, Mini-batch    40] Loss: 1.894 | Accuracy: 25.62 %\n",
      "[Epoch 7, Mini-batch    50] Loss: 1.970 | Accuracy: 26.50 %\n",
      "[Epoch 7, Mini-batch    60] Loss: 2.077 | Accuracy: 23.75 %\n",
      "[Epoch 7, Mini-batch    70] Loss: 2.022 | Accuracy: 23.57 %\n",
      "[Epoch 8, Mini-batch    10] Loss: 1.860 | Accuracy: 22.50 %\n",
      "[Epoch 8, Mini-batch    20] Loss: 1.899 | Accuracy: 22.50 %\n",
      "[Epoch 8, Mini-batch    30] Loss: 1.904 | Accuracy: 26.67 %\n",
      "[Epoch 8, Mini-batch    40] Loss: 2.044 | Accuracy: 25.00 %\n",
      "[Epoch 8, Mini-batch    50] Loss: 2.022 | Accuracy: 24.50 %\n",
      "[Epoch 8, Mini-batch    60] Loss: 1.925 | Accuracy: 24.17 %\n",
      "[Epoch 8, Mini-batch    70] Loss: 2.037 | Accuracy: 23.21 %\n",
      "[Epoch 9, Mini-batch    10] Loss: 1.910 | Accuracy: 25.00 %\n",
      "[Epoch 9, Mini-batch    20] Loss: 1.991 | Accuracy: 26.25 %\n",
      "[Epoch 9, Mini-batch    30] Loss: 1.828 | Accuracy: 29.17 %\n",
      "[Epoch 9, Mini-batch    40] Loss: 1.870 | Accuracy: 29.38 %\n",
      "[Epoch 9, Mini-batch    50] Loss: 2.012 | Accuracy: 27.00 %\n",
      "[Epoch 9, Mini-batch    60] Loss: 1.900 | Accuracy: 26.67 %\n",
      "[Epoch 9, Mini-batch    70] Loss: 2.037 | Accuracy: 25.00 %\n",
      "[Epoch 10, Mini-batch    10] Loss: 2.022 | Accuracy: 25.00 %\n",
      "[Epoch 10, Mini-batch    20] Loss: 1.989 | Accuracy: 26.25 %\n",
      "[Epoch 10, Mini-batch    30] Loss: 1.887 | Accuracy: 31.67 %\n",
      "[Epoch 10, Mini-batch    40] Loss: 1.834 | Accuracy: 30.62 %\n",
      "[Epoch 10, Mini-batch    50] Loss: 1.911 | Accuracy: 30.00 %\n",
      "[Epoch 10, Mini-batch    60] Loss: 1.840 | Accuracy: 29.17 %\n",
      "[Epoch 10, Mini-batch    70] Loss: 1.852 | Accuracy: 28.93 %\n",
      "Finished Training\n"
     ]
    }
   ],
   "source": [
    "# Initialize the neural network model\n",
    "net = SimpleNN()\n",
    "\n",
    "# Define loss function and optimizer\n",
    "criterion = nn.CrossEntropyLoss()\n",
    "optimizer = optim.Adam(net.parameters(), lr=0.001)  # Using Adam optimizer\n",
    "\n",
    "# Number of epochs\n",
    "num_epochs = 10\n",
    "train_loss_history = []\n",
    "\n",
    "# Training loop\n",
    "for epoch in range(num_epochs):\n",
    "    running_loss = 0.0\n",
    "    correct = 0\n",
    "    total = 0\n",
    "    for i, data in enumerate(trainloader, 0):\n",
    "        inputs, labels = data\n",
    "\n",
    "        # Zero the parameter gradients\n",
    "        optimizer.zero_grad()\n",
    "\n",
    "        # Forward pass\n",
    "        outputs = net(inputs)\n",
    "        loss = criterion(outputs, labels)\n",
    "\n",
    "        # Backward pass and optimization\n",
    "        loss.backward()\n",
    "        optimizer.step()\n",
    "\n",
    "        # Compute accuracy\n",
    "        _, predicted = torch.max(outputs, 1)\n",
    "        total += labels.size(0)\n",
    "        correct += (predicted == labels).sum().item()\n",
    "\n",
    "        # Print statistics\n",
    "        running_loss += loss.item()\n",
    "        if i % 10 == 9:    # Print every 10 mini-batches\n",
    "            print('[Epoch %d, Mini-batch %5d] Loss: %.3f | Accuracy: %.2f %%' %\n",
    "                  (epoch + 1, i + 1, running_loss / 10, 100 * correct / total))\n",
    "            running_loss = 0.0\n",
    "    train_loss_history.append(running_loss / len(trainloader))\n",
    "\n",
    "print('Finished Training')\n"
   ]
  },
  {
   "cell_type": "code",
   "execution_count": 21,
   "metadata": {},
   "outputs": [
    {
     "data": {
      "image/png": "[encoded data removed]",
      "text/plain": [
       "<Figure size 640x480 with 1 Axes>"
      ]
     },
     "metadata": {},
     "output_type": "display_data"
    }
   ],
   "source": [
    "plt.plot(range(1, num_epochs + 1), train_loss_history, label='Training Loss')\n",
    "plt.xlabel('Epoch')\n",
    "plt.ylabel('Loss')\n",
    "plt.title('Training Loss over Epochs')\n",
    "plt.legend()\n",
    "plt.show()"
   ]
  },
  {
   "cell_type": "code",
   "execution_count": 17,
   "metadata": {},
   "outputs": [
    {
     "name": "stdout",
     "output_type": "stream",
     "text": [
      "SimpleNN(\n",
      "  (fc1): Linear(in_features=3072, out_features=120, bias=True)\n",
      "  (fc2): Linear(in_features=120, out_features=84, bias=True)\n",
      "  (fc3): Linear(in_features=84, out_features=64, bias=True)\n",
      "  (fc4): Linear(in_features=64, out_features=10, bias=True)\n",
      ")\n"
     ]
    }
   ],
   "source": [
    "import torch.nn.functional as F\n",
    "\n",
    "class SimpleNN(nn.Module):\n",
    "    def __init__(self):\n",
    "        super(SimpleNN, self).__init__()\n",
    "        self.fc1 = nn.Linear(3 * 32 * 32, 120)  # Input size is 3x32x32 for CIFAR-10 images\n",
    "        self.fc2 = nn.Linear(120, 84)\n",
    "        self.fc3 = nn.Linear(84, 64)\n",
    "        self.fc4 = nn.Linear(64, 10)  # Output size is 10 for 10 classes in CIFAR-10\n",
    "\n",
    "    def forward(self, x):\n",
    "        x = x.view(-1, 3 * 32 * 32)  # Flatten the input\n",
    "        x = torch.relu(self.fc1(x))\n",
    "        x = torch.relu(self.fc2(x))\n",
    "        x = torch.relu(self.fc3(x))\n",
    "        x = self.fc4(x)\n",
    "        return x\n",
    "\n",
    "# initialize the NN\n",
    "model = SimpleNN()\n",
    "print(model)\n"
   ]
  },
  {
   "cell_type": "code",
   "execution_count": 18,
   "metadata": {},
   "outputs": [],
   "source": [
    "# Select only 50000 images\n",
    "trainset_small = torch.utils.data.Subset(trainset, range(50000))\n",
    "\n",
    "# Create data loader\n",
    "trainloader = torch.utils.data.DataLoader(trainset_small, batch_size=4, shuffle=True, num_workers=2)"
   ]
  },
  {
   "cell_type": "code",
   "execution_count": 20,
   "metadata": {},
   "outputs": [
    {
     "name": "stdout",
     "output_type": "stream",
     "text": [
      "Epoch: 1 \tTraining Loss: 0.426812\n",
      "Epoch: 2 \tTraining Loss: 0.405339\n",
      "Epoch: 3 \tTraining Loss: 0.391466\n",
      "Epoch: 4 \tTraining Loss: 0.380095\n",
      "Epoch: 5 \tTraining Loss: 0.372303\n",
      "Epoch: 6 \tTraining Loss: 0.364410\n",
      "Epoch: 7 \tTraining Loss: 0.358354\n",
      "Epoch: 8 \tTraining Loss: 0.352498\n",
      "Epoch: 9 \tTraining Loss: 0.346740\n",
      "Epoch: 10 \tTraining Loss: 0.342379\n",
      "Finished Training\n"
     ]
    }
   ],
   "source": [
    "\n",
    "\n",
    "# Define loss function and optimizer\n",
    "criterion = nn.CrossEntropyLoss()\n",
    "optimizer = optim.SGD(model.parameters(), lr=0.01)  # Using SGD optimizer\n",
    "\n",
    "# Number of epochs\n",
    "num_epochs = 10\n",
    "\n",
    "# Lists to store training loss\n",
    "train_loss_history = []\n",
    "\n",
    "# Training loop\n",
    "for epoch in range(num_epochs):\n",
    "    running_loss = 0.0\n",
    "    correct = 0\n",
    "    total = 0\n",
    "    for i, data in enumerate(trainloader, 0):\n",
    "        inputs, labels = data\n",
    "\n",
    "        # Zero the parameter gradients\n",
    "        optimizer.zero_grad()\n",
    "\n",
    "        # Forward pass\n",
    "        outputs = model(inputs)\n",
    "        loss = criterion(outputs, labels)\n",
    "\n",
    "        # Backward pass and optimization\n",
    "        loss.backward()\n",
    "        optimizer.step()\n",
    "\n",
    "        # Compute accuracy\n",
    "        _, predicted = torch.max(outputs, 1)\n",
    "        total += labels.size(0)\n",
    "        correct += (predicted == labels).sum().item()\n",
    "\n",
    "        # Print statistics\n",
    "        running_loss += loss.item()\n",
    "            \n",
    "    # Save the average training loss for the epoch\n",
    "    running_loss = running_loss/len(trainloader.dataset)\n",
    "\n",
    "    print('Epoch: {} \\tTraining Loss: {:.6f}'.format(\n",
    "        epoch+1, \n",
    "        running_loss\n",
    "        ))\n",
    "    train_loss_history.append(running_loss / len(trainloader))\n",
    "\n",
    "print('Finished Training')\n",
    "\n",
    "\n"
   ]
  },
  {
   "cell_type": "code",
   "execution_count": 21,
   "metadata": {},
   "outputs": [
    {
     "data": {
      "image/png": "[encoded data removed]",
      "text/plain": [
       "<Figure size 640x480 with 1 Axes>"
      ]
     },
     "metadata": {},
     "output_type": "display_data"
    }
   ],
   "source": [
    "plt.plot(range(1, num_epochs + 1), train_loss_history, label='Training Loss')\n",
    "plt.xlabel('Epoch')\n",
    "plt.ylabel('Loss')\n",
    "plt.title('Training Loss over Epochs')\n",
    "plt.legend()\n",
    "plt.show()"
   ]
  }
 ],
 "metadata": {
  "kernelspec": {
   "display_name": "Python 3",
   "language": "python",
   "name": "python3"
  },
  "language_info": {
   "codemirror_mode": {
    "name": "ipython",
    "version": 3
   },
   "file_extension": ".py",
   "mimetype": "text/x-python",
   "name": "python",
   "nbconvert_exporter": "python",
   "pygments_lexer": "ipython3",
   "version": "3.11.0"
  }
 },
 "nbformat": 4,
 "nbformat_minor": 2
}
