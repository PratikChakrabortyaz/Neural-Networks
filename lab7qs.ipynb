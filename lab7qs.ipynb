{
 "cells": [
  {
   "cell_type": "code",
   "execution_count": 1,
   "id": "a29596a2",
   "metadata": {},
   "outputs": [],
   "source": [
    "import numpy as np\n",
    "import pandas as pd\n",
    "import matplotlib.pyplot as plt"
   ]
  },
  {
   "cell_type": "code",
   "execution_count": 2,
   "id": "c978108e",
   "metadata": {},
   "outputs": [],
   "source": [
    "#q1"
   ]
  },
  {
   "cell_type": "code",
   "execution_count": 5,
   "id": "686205c2",
   "metadata": {},
   "outputs": [],
   "source": [
    "#a"
   ]
  },
  {
   "cell_type": "code",
   "execution_count": 39,
   "id": "2676b5cd",
   "metadata": {},
   "outputs": [
    {
     "name": "stdout",
     "output_type": "stream",
     "text": [
      "0.6923076923076923\n"
     ]
    }
   ],
   "source": [
    "Pa=0.6\n",
    "Pb=0.4\n",
    "Pea=0.3\n",
    "Peb=0.2\n",
    "Pae=(Pea*Pa)/(Pa*Pea+Pb*Peb)\n",
    "print(Pae)"
   ]
  },
  {
   "cell_type": "code",
   "execution_count": 40,
   "id": "bfafe0c5",
   "metadata": {},
   "outputs": [],
   "source": [
    "#b"
   ]
  },
  {
   "cell_type": "code",
   "execution_count": 49,
   "id": "d95a5f21",
   "metadata": {},
   "outputs": [
    {
     "name": "stdout",
     "output_type": "stream",
     "text": [
      "0.3333333333333333\n"
     ]
    }
   ],
   "source": [
    "Pd=0.01\n",
    "Ptd=0.99\n",
    "Ptdn=0.02\n",
    "Pdn=1-Pd\n",
    "Pt=Ptd*Pd+Ptdn*Pdn\n",
    "Pdt=(Ptd*Pd)/(Pt)\n",
    "print(Pdt)"
   ]
  },
  {
   "cell_type": "code",
   "execution_count": 42,
   "id": "735301d8",
   "metadata": {},
   "outputs": [],
   "source": [
    "#q2"
   ]
  },
  {
   "cell_type": "code",
   "execution_count": 53,
   "id": "d5f98320",
   "metadata": {},
   "outputs": [
    {
     "name": "stdout",
     "output_type": "stream",
     "text": [
      "9\n",
      "5\n"
     ]
    }
   ],
   "source": [
    "age=[\"<=30\",\"<=30\",\"31..40\",\">40\",\">40\",\">40\",\"31..40\",\"<=30\",\"<=30\",\">40\",\"<=30\",\"31..40\",\"31..40\",\">40\"]\n",
    "income=[\"high\",\"high\",\"high\",\"medium\",\"low\",\"low\",\"low\",\"medium\",\"low\",\"medium\",\"medium\",\"medium\",\"high\",\"medium\"]\n",
    "student=[\"no\",\"no\",\"no\",\"no\",\"yes\",\"yes\",\"yes\",\"no\",\"yes\",\"yes\",\"yes\",\"no\",\"yes\",\"no\"]\n",
    "credit_rating=[\"fair\",\"excellent\",\"fair\",\"fair\",\"fair\",\"excellent\",\"excellent\",\"fair\",\"fair\",\"fair\",\"excellent\",\"excellent\",\"fair\",\"excellent\"]\n",
    "buys_computer=[\"no\",\"no\",\"yes\",\"yes\",\"yes\",\"no\",\"yes\",\"no\",\"yes\",\"yes\",\"yes\",\"yes\",\"yes\",\"no\"]\n",
    "n=len(age)\n",
    "e1_yes,e2_yes,e3_yes,e4_yes=0,0,0,0\n",
    "e1_no,e2_no,e3_no,e4_no=0,0,0,0\n",
    "yes,no=0,0\n",
    "for i in range(n):\n",
    "    if buys_computer[i]==\"yes\":\n",
    "        yes+=1\n",
    "    else:\n",
    "        no+=1\n",
    "print(yes)\n",
    "print(no)"
   ]
  },
  {
   "cell_type": "code",
   "execution_count": 54,
   "id": "45c318df",
   "metadata": {},
   "outputs": [
    {
     "name": "stdout",
     "output_type": "stream",
     "text": [
      "Count of 'yes' where age <=30: 2\n",
      "Count of 'yes' where income is medium: 4\n",
      "Count of 'yes' where student is yes: 6\n",
      "Count of 'yes' where credit rating is fair: 6\n",
      "Count of 'no' where age <=30: 3\n",
      "Count of 'no' where income is medium: 2\n",
      "Count of 'no' where student is yes: 1\n",
      "Count of 'no' where credit rating is fair: 2\n",
      "Probability of yes given conditons:0.39506172839506165\n",
      "Probability of no given conditions:0.096\n"
     ]
    }
   ],
   "source": [
    "for i in range(n):\n",
    "    if buys_computer[i] == \"yes\":\n",
    "        if age[i] == \"<=30\":\n",
    "            e1_yes += 1\n",
    "        if income[i] == \"medium\":\n",
    "            e2_yes += 1\n",
    "        if student[i] == \"yes\":\n",
    "            e3_yes += 1\n",
    "        if credit_rating[i] == \"fair\":\n",
    "            e4_yes += 1\n",
    "    elif buys_computer[i] == \"no\":\n",
    "        if age[i] == \"<=30\":\n",
    "            e1_no += 1\n",
    "        if income[i] == \"medium\":\n",
    "            e2_no += 1\n",
    "        if student[i] == \"yes\":\n",
    "            e3_no += 1\n",
    "        if credit_rating[i] == \"fair\":\n",
    "            e4_no += 1\n",
    "\n",
    "print(f\"Count of 'yes' where age <=30: {e1_yes}\")\n",
    "print(f\"Count of 'yes' where income is medium: {e2_yes}\")\n",
    "print(f\"Count of 'yes' where student is yes: {e3_yes}\")\n",
    "print(f\"Count of 'yes' where credit rating is fair: {e4_yes}\")\n",
    "\n",
    "print(f\"Count of 'no' where age <=30: {e1_no}\")\n",
    "print(f\"Count of 'no' where income is medium: {e2_no}\")\n",
    "print(f\"Count of 'no' where student is yes: {e3_no}\")\n",
    "print(f\"Count of 'no' where credit rating is fair: {e4_no}\")\n",
    "       \n",
    "   \n",
    "Pe1_yes=e1_yes/yes\n",
    "Pe2_yes=e2_yes/yes\n",
    "Pe3_yes=e3_yes/yes\n",
    "Pe4_yes=e4_yes/yes\n",
    "\n",
    "Pe1_no=e1_no/no\n",
    "Pe2_no=e2_no/no\n",
    "Pe3_no=e3_no/no\n",
    "Pe4_no=e4_no/no\n",
    "Pyes_e=Pe1_yes*Pe2_yes*Pe3_yes*Pe4_yes*yes\n",
    "Pno_e=Pe1_no*Pe2_no*Pe3_no*Pe4_no*no\n",
    "print(f\"Probability of yes given conditons:{Pyes_e}\")\n",
    "print(f\"Probability of no given conditions:{Pno_e}\")\n",
    "            "
   ]
  },
  {
   "cell_type": "code",
   "execution_count": 45,
   "id": "952918a1",
   "metadata": {},
   "outputs": [],
   "source": [
    "#q3"
   ]
  },
  {
   "cell_type": "code",
   "execution_count": 50,
   "id": "f41e3546",
   "metadata": {},
   "outputs": [
    {
     "name": "stdout",
     "output_type": "stream",
     "text": [
      "{'a': 2, 'great': 1, 'game': 2, 'very': 1, 'clean': 2, 'match': 1, 'but': 1, 'forgettable': 1}\n",
      "{'the': 1, 'election': 2, 'was': 2, 'over': 1, 'it': 1, 'a': 1, 'close': 1}\n",
      "11\n",
      "9\n",
      "14\n"
     ]
    }
   ],
   "source": [
    "text=[\"A great game\",\"The election was over\",\"Very clean match\",\"A clean but forgettable game\",\"It was a close election\"]\n",
    "tag=[\"Sports\",\"Not sports\",\"Sports\",\"Sports\",\"Not sports\"]\n",
    "dpos={}\n",
    "dneg={}\n",
    "l_tot=[]\n",
    "n=len(text)\n",
    "pos_n=0\n",
    "neg_n=0\n",
    "unique_n=0\n",
    "for i in range(n):\n",
    "    if tag[i]==\"Sports\":\n",
    "        for word in text[i].split():\n",
    "            if word.lower() not in dpos:\n",
    "                dpos[word.lower()]=1\n",
    "            else:\n",
    "                dpos[word.lower()]+=1\n",
    "            pos_n+=1\n",
    "    else:\n",
    "        for word in text[i].split():\n",
    "            if word.lower() not in dneg:\n",
    "                dneg[word.lower()]=1\n",
    "            else:\n",
    "                dneg[word.lower()]+=1\n",
    "            neg_n+=1\n",
    "for sent in text:\n",
    "    for word in sent.split():\n",
    "        if word.lower() not in l_tot:\n",
    "            l_tot.append(word.lower())\n",
    "            unique_n+=1\n",
    "        else:\n",
    "            continue\n",
    "print(dpos)\n",
    "print(dneg)\n",
    "print(pos_n)\n",
    "print(neg_n)\n",
    "print(unique_n)        \n",
    "                \n",
    "            "
   ]
  },
  {
   "cell_type": "code",
   "execution_count": 51,
   "id": "6598da20",
   "metadata": {},
   "outputs": [
    {
     "name": "stdout",
     "output_type": "stream",
     "text": [
      "{'a': 0.12, 'very': 0.08, 'close': 0.04, 'game': 0.12}\n",
      "{'a': 0.08695652173913043, 'very': 0.043478260869565216, 'close': 0.08695652173913043, 'game': 0.043478260869565216}\n"
     ]
    }
   ],
   "source": [
    "test_sent=\"A very close game\"\n",
    "test_pos={}\n",
    "test_neg={}\n",
    "for word in test_sent.split():\n",
    "    if word.lower() in dpos.keys():\n",
    "        test_pos[word.lower()]=(dpos[word.lower()]+1)/(pos_n+unique_n)\n",
    "    else:\n",
    "        test_pos[word.lower()]=1/(pos_n+unique_n)\n",
    "for word in test_sent.split():\n",
    "    if word.lower() in dneg.keys():\n",
    "        test_neg[word.lower()]=(dneg[word.lower()]+1)/(neg_n+unique_n)\n",
    "    else:\n",
    "        test_neg[word.lower()]=1/(neg_n+unique_n)\n",
    "print(test_pos)\n",
    "print(test_neg)\n",
    "\n",
    "    "
   ]
  },
  {
   "cell_type": "code",
   "execution_count": 52,
   "id": "e2ebff0d",
   "metadata": {},
   "outputs": [
    {
     "name": "stdout",
     "output_type": "stream",
     "text": [
      "Probability of sports:2.7647999999999997e-05\n",
      "Probability of not sports:5.7175324559303314e-06\n"
     ]
    }
   ],
   "source": [
    "sports_n,notsports_n=0,0\n",
    "for ele in tag:\n",
    "    if ele==\"Sports\":\n",
    "        sports_n+=1\n",
    "    else:\n",
    "        notsports_n+=1\n",
    "tag_n=len(tag)\n",
    "    \n",
    "Psports_test,Pnotsports_test=(sports_n/tag_n),(notsports_n/tag_n)\n",
    "for val in test_pos.values():\n",
    "    Psports_test*=val\n",
    "for val in test_neg.values():\n",
    "    Pnotsports_test*=val\n",
    "print(f\"Probability of sports:{Psports_test}\")\n",
    "print(f\"Probability of not sports:{Pnotsports_test}\")"
   ]
  },
  {
   "cell_type": "code",
   "execution_count": null,
   "id": "d752607a",
   "metadata": {},
   "outputs": [],
   "source": []
  }
 ],
 "metadata": {
  "kernelspec": {
   "display_name": "Python 3 (ipykernel)",
   "language": "python",
   "name": "python3"
  },
  "language_info": {
   "codemirror_mode": {
    "name": "ipython",
    "version": 3
   },
   "file_extension": ".py",
   "mimetype": "text/x-python",
   "name": "python",
   "nbconvert_exporter": "python",
   "pygments_lexer": "ipython3",
   "version": "3.12.3"
  }
 },
 "nbformat": 4,
 "nbformat_minor": 5
}
