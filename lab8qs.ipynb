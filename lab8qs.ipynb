{
 "cells": [
  {
   "cell_type": "code",
   "execution_count": 1,
   "id": "e7dad024",
   "metadata": {},
   "outputs": [],
   "source": [
    "import numpy as np\n",
    "import pandas as pd\n",
    "import matplotlib.pyplot as plt"
   ]
  },
  {
   "cell_type": "markdown",
   "id": "126f8a6d",
   "metadata": {},
   "source": [
    "### Q1"
   ]
  },
  {
   "cell_type": "code",
   "execution_count": 2,
   "id": "9af6eba4",
   "metadata": {},
   "outputs": [],
   "source": [
    "df={(180,7):'Apple',(200,6):'Apple',(150,4):'Orange',(170,5):'Orange',(160,6):'Apple',(140,3):'Orange'}"
   ]
  },
  {
   "cell_type": "code",
   "execution_count": 37,
   "id": "63ac480b",
   "metadata": {},
   "outputs": [],
   "source": [
    "def knn(t1,k=3):\n",
    "    l1=[]\n",
    "    for key,val in df.items():\n",
    "        l1.append((np.sqrt((key[0]-t1[0])**2+(key[1]-t1[1])**2),val))\n",
    "    l1=sorted(l1,key=lambda x:x[0])\n",
    "    label=[]\n",
    "    x=0\n",
    "    while x<k:\n",
    "        label.append(l1[x][1])\n",
    "        x+=1\n",
    "    label_d={}\n",
    "    for ele in label:\n",
    "        if ele not in label_d:\n",
    "            label_d[ele]=1\n",
    "        else:\n",
    "            label_d[ele]+=1\n",
    "    label_d=dict(sorted(label_d.items(),key=lambda item:item[1],reverse=True))\n",
    "    return list(label_d.keys())[0]"
   ]
  },
  {
   "cell_type": "code",
   "execution_count": 38,
   "id": "0591c923",
   "metadata": {},
   "outputs": [
    {
     "name": "stdout",
     "output_type": "stream",
     "text": [
      "Apple\n"
     ]
    }
   ],
   "source": [
    "t1=(165,5.5)\n",
    "label=knn(t1,k=3)\n",
    "print(label)"
   ]
  },
  {
   "cell_type": "code",
   "execution_count": 39,
   "id": "2be1c0c3",
   "metadata": {},
   "outputs": [],
   "source": [
    "def euclidean(t1):\n",
    "    l1=[]\n",
    "    for key,val in df.items():\n",
    "        l1.append((np.sqrt((key[0]-t1[0])**2+(key[1]-t1[1])**2),val))\n",
    "    l1=sorted(l1,key=lambda x:x[0])\n",
    "    print(l1)\n",
    "def manhattan(t1):\n",
    "    l1=[]\n",
    "    for key,val in df.items():\n",
    "        l1.append((abs(key[0]-t1[0])+abs(key[1]-t1[1]),val))\n",
    "    l1=sorted(l1,key=lambda x:x[0])\n",
    "    print(l1)\n",
    "def minkowski(t1,p=4):\n",
    "    l1=[]\n",
    "    for key,val in df.items():\n",
    "        l1.append((((key[0]-t1[0])**p+(key[1]-t1[1])**4)**(1/p),val))\n",
    "    l1=sorted(l1,key=lambda x:x[0])\n",
    "    print(l1)\n",
    "    "
   ]
  },
  {
   "cell_type": "code",
   "execution_count": 40,
   "id": "0413d0ed",
   "metadata": {},
   "outputs": [
    {
     "name": "stdout",
     "output_type": "stream",
     "text": [
      "[(0.0, 'Apple'), (5.024937810560445, 'Orange'), (5.024937810560445, 'Apple'), (15.074813431681335, 'Apple'), (15.074813431681335, 'Orange'), (25.124689052802225, 'Orange'), (35.00357124637428, 'Apple')]\n",
      "[(0.0, 'Apple'), (5.5, 'Orange'), (5.5, 'Apple'), (16.5, 'Apple'), (16.5, 'Orange'), (27.5, 'Orange'), (35.5, 'Apple')]\n",
      "[(0.0, 'Apple'), (5.000124995312773, 'Orange'), (5.000124995312773, 'Apple'), (15.00037498593832, 'Apple'), (15.00037498593832, 'Orange'), (25.000624976563866, 'Orange'), (35.00000036443148, 'Apple')]\n"
     ]
    }
   ],
   "source": [
    "euclidean(t1)\n",
    "manhattan(t1)\n",
    "minkowski(t1,p=4)"
   ]
  },
  {
   "cell_type": "code",
   "execution_count": 41,
   "id": "2b158dc9",
   "metadata": {},
   "outputs": [
    {
     "name": "stdout",
     "output_type": "stream",
     "text": [
      "k=1:Apple\n",
      "k=5:Apple\n"
     ]
    }
   ],
   "source": [
    "label1=knn(t1,k=1)\n",
    "label2=knn(t1,k=5)\n",
    "print(f\"k=1:{label1}\")\n",
    "print(f\"k=5:{label2}\")"
   ]
  },
  {
   "cell_type": "code",
   "execution_count": 42,
   "id": "622dc814",
   "metadata": {},
   "outputs": [
    {
     "data": {
      "text/plain": [
       "{(180, 7): 'Apple',\n",
       " (200, 6): 'Apple',\n",
       " (150, 4): 'Orange',\n",
       " (170, 5): 'Orange',\n",
       " (160, 6): 'Apple',\n",
       " (140, 3): 'Orange',\n",
       " (165, 5.5): 'Apple'}"
      ]
     },
     "execution_count": 42,
     "metadata": {},
     "output_type": "execute_result"
    }
   ],
   "source": [
    "df[t1]=label\n",
    "df"
   ]
  },
  {
   "cell_type": "code",
   "execution_count": 73,
   "id": "bb642c55",
   "metadata": {},
   "outputs": [],
   "source": [
    "\n",
    "point = (162.5, 5.25)\n",
    "x2, y2 = 200, 5.75\n",
    "slope = (y2 - point[1]) / (x2 - point[0])  \n",
    "\n",
    "line_x = np.linspace(100, 210, 100) \n",
    "\n",
    "line_y = slope * (line_x - point[0]) + point[1]"
   ]
  },
  {
   "cell_type": "code",
   "execution_count": 74,
   "id": "c8e72cec",
   "metadata": {},
   "outputs": [
    {
     "data": {
      "image/png": "[encoded data removed]",
      "text/plain": [
       "<Figure size 640x480 with 1 Axes>"
      ]
     },
     "metadata": {},
     "output_type": "display_data"
    }
   ],
   "source": [
    "X = np.array(list(df.keys()))\n",
    "y = np.array(list(df.values()))\n",
    "\n",
    "label_mapping = {'Apple': 0, 'Orange': 1}\n",
    "y_numeric = np.array([label_mapping[label] for label in y])\n",
    "colors = {0: 'red', 1: 'orange'}  \n",
    "\n",
    "for class_label, color in colors.items():\n",
    "    plt.scatter(X[y_numeric == class_label, 0], X[y_numeric == class_label, 1], \n",
    "                color=color, edgecolors='k', label='Apple' if class_label == 0 else 'Orange')\n",
    "\n",
    "\n",
    "plt.plot(line_x, line_y, color='blue')\n",
    "plt.xlabel(\"Feature 1\")\n",
    "plt.ylabel(\"Feature 2\")\n",
    "plt.legend()\n",
    "plt.show()\n"
   ]
  },
  {
   "cell_type": "code",
   "execution_count": 123,
   "id": "236c69a9",
   "metadata": {},
   "outputs": [
    {
     "name": "stdout",
     "output_type": "stream",
     "text": [
      "The predicted class for point [165.    5.5] is: Orange\n",
      "Distances to neighbors:\n",
      "Point 1: Euclidean = 15.07, Manhattan = 16.50, Minkowski (p=3) = 15.00\n",
      "Point 2: Euclidean = 35.00, Manhattan = 35.50, Minkowski (p=3) = 35.00\n",
      "Point 3: Euclidean = 15.07, Manhattan = 16.50, Minkowski (p=3) = 15.00\n",
      "Point 4: Euclidean = 5.02, Manhattan = 5.50, Minkowski (p=3) = 5.00\n",
      "Point 5: Euclidean = 5.02, Manhattan = 5.50, Minkowski (p=3) = 5.00\n",
      "Point 6: Euclidean = 25.12, Manhattan = 27.50, Minkowski (p=3) = 25.01\n"
     ]
    }
   ],
   "source": [
    "import numpy as np\n",
    "import matplotlib.pyplot as plt\n",
    "from sklearn.neighbors import KNeighborsClassifier\n",
    "from sklearn.metrics import pairwise_distances\n",
    "\n",
    "\n",
    "data = {\n",
    "    (180, 7): 'Apple',\n",
    "    (200, 6): 'Apple',\n",
    "    (150, 4): 'Orange',\n",
    "    (170, 5): 'Orange',\n",
    "    (160, 6): 'Apple',\n",
    "    (140, 3): 'Orange'\n",
    "}\n",
    "\n",
    "\n",
    "X = np.array(list(data.keys()))\n",
    "y = np.array(list(data.values()))\n",
    "\n",
    "\n",
    "y = np.where(y == 'Apple', 1, 0)  \n",
    "\n",
    "\n",
    "k = 3 \n",
    "knn = KNeighborsClassifier(n_neighbors=k)\n",
    "knn.fit(X, y)\n",
    "\n",
    "\n",
    "t1 = np.array([[165, 5.5]])\n",
    "\n",
    "\n",
    "prediction = knn.predict(t1)\n",
    "predicted_class = 'Apple' if prediction[0] == 1 else 'Orange'\n",
    "print(f\"The predicted class for point {t1[0]} is: {predicted_class}\")\n",
    "\n",
    "\n",
    "\n",
    "euclidean_distance = np.linalg.norm(t1 - X, axis=1)\n",
    "manhattan_distance = np.sum(np.abs(t1 - X), axis=1)\n",
    "minkowski_distance = pairwise_distances(t1, X, metric='minkowski', p=3).flatten()\n",
    "\n",
    "\n",
    "print(\"Distances to neighbors:\")\n",
    "for i, (euclidean, manhattan, minkowski) in enumerate(zip(euclidean_distance, manhattan_distance, minkowski_distance)):\n",
    "    print(f\"Point {i + 1}: Euclidean = {euclidean:.2f}, Manhattan = {manhattan:.2f}, Minkowski (p=3) = {minkowski:.2f}\")\n"
   ]
  },
  {
   "cell_type": "markdown",
   "id": "8bccf6ee",
   "metadata": {},
   "source": [
    "### Q2"
   ]
  },
  {
   "cell_type": "code",
   "execution_count": 80,
   "id": "4c114671",
   "metadata": {},
   "outputs": [],
   "source": [
    "data={\n",
    "    'Age':[30,45,50,35,60,55,40,25,65,45],\n",
    "    'Blood Pressure':['High','Low','High','Low','High','Low','High','Low','High','Low'],\n",
    "    'Cholesterol':['High','Normal','High','Normal','High','Normal','High','Normal','High','Normal'],\n",
    "    'Diagnosis':['Sick','Healthy','Sick','Healthy','Sick','Healthy','Sick','Healthy','Sick','Healthy']\n",
    "}\n",
    "data_df = pd.DataFrame(data)\n",
    "target_variable = 'Diagnosis'\n",
    "features = ['Age', 'Blood Pressure', 'Cholesterol']"
   ]
  },
  {
   "cell_type": "code",
   "execution_count": 108,
   "id": "21eb5bd1",
   "metadata": {},
   "outputs": [],
   "source": [
    "def calculate_entropy(data, target_col):\n",
    "    class_counts = data[target_col].value_counts(normalize=True)\n",
    "    entropy = -sum(class_counts * np.log2(class_counts + 1e-9))\n",
    "    return entropy"
   ]
  },
  {
   "cell_type": "code",
   "execution_count": 109,
   "id": "f2bb0b2a",
   "metadata": {},
   "outputs": [
    {
     "name": "stdout",
     "output_type": "stream",
     "text": [
      "Entropy of target variable Diagnosis: 1.0000\n"
     ]
    }
   ],
   "source": [
    "entropy = calculate_entropy(data_df, target_variable)\n",
    "print(f\"Entropy of target variable {target_variable}: {entropy:.4f}\")"
   ]
  },
  {
   "cell_type": "code",
   "execution_count": 110,
   "id": "fb98126b",
   "metadata": {},
   "outputs": [],
   "source": [
    "\n",
    "def calculate_information_gain(data, feature, target_col):\n",
    "    total_entropy = calculate_entropy(data, target_col)\n",
    "    feature_entropy = data.groupby(feature).apply(lambda x: calculate_entropy(x, target_col)).sum()\n",
    "    info_gain = total_entropy - feature_entropy\n",
    "    return info_gain"
   ]
  },
  {
   "cell_type": "code",
   "execution_count": 111,
   "id": "963768f1",
   "metadata": {},
   "outputs": [
    {
     "name": "stdout",
     "output_type": "stream",
     "text": [
      "Information Gain for feature 'Age': 1.0000\n",
      "Information Gain for feature 'Blood Pressure': 1.0000\n",
      "Information Gain for feature 'Cholesterol': 1.0000\n"
     ]
    }
   ],
   "source": [
    "\n",
    "for feature in features:\n",
    "    info_gain = calculate_information_gain(data_df, feature, target_variable)\n",
    "    print(f\"Information Gain for feature '{feature}': {info_gain:.4f}\")"
   ]
  },
  {
   "cell_type": "code",
   "execution_count": 117,
   "id": "8f151a5d",
   "metadata": {},
   "outputs": [],
   "source": [
    "def id3(data, target_col, features):\n",
    "    if len(data[target_col].unique()) == 1:\n",
    "        return data[target_col].iloc[0]\n",
    "\n",
    "    if not features:\n",
    "        return data[target_col].mode()[0]\n",
    "\n",
    "    gains = {feature: calculate_information_gain(data, feature, target_col) for feature in features}\n",
    "    best_feature = max(gains, key=gains.get)\n",
    "    \n",
    "    tree = {best_feature: {}}\n",
    "\n",
    "    print(f\"Feature: '{best_feature}'\")\n",
    "    \n",
    "    for value in data[best_feature].unique():\n",
    "        subset = data[data[best_feature] == value]\n",
    "        print(f\"  Split on '{best_feature}': {value}\")\n",
    "        \n",
    "        \n",
    "        tree[best_feature][value] = id3(subset, target_col, [f for f in features if f != best_feature])\n",
    "    \n",
    "    return tree"
   ]
  },
  {
   "cell_type": "code",
   "execution_count": 118,
   "id": "bd4e2cb9",
   "metadata": {},
   "outputs": [
    {
     "name": "stdout",
     "output_type": "stream",
     "text": [
      "Feature: 'Age'\n",
      "  Split on 'Age': 30\n",
      "  Split on 'Age': 45\n",
      "  Split on 'Age': 50\n",
      "  Split on 'Age': 35\n",
      "  Split on 'Age': 60\n",
      "  Split on 'Age': 55\n",
      "  Split on 'Age': 40\n",
      "  Split on 'Age': 25\n",
      "  Split on 'Age': 65\n",
      "\n",
      "Decision Tree:\n",
      "{'Age': {25: 'Healthy',\n",
      "         30: 'Sick',\n",
      "         35: 'Healthy',\n",
      "         40: 'Sick',\n",
      "         45: 'Healthy',\n",
      "         50: 'Sick',\n",
      "         55: 'Healthy',\n",
      "         60: 'Sick',\n",
      "         65: 'Sick'}}\n"
     ]
    }
   ],
   "source": [
    "from pprint import pprint\n",
    "decision_tree=id3(data_df,target_variable,features)\n",
    "print(\"\\nDecision Tree:\")\n",
    "pprint(decision_tree)\n"
   ]
  },
  {
   "cell_type": "code",
   "execution_count": 119,
   "id": "746da549",
   "metadata": {},
   "outputs": [
    {
     "name": "stdout",
     "output_type": "stream",
     "text": [
      "The predicted diagnosis for the patient is: Sick\n"
     ]
    }
   ],
   "source": [
    "def predict(tree, patient):\n",
    "\n",
    "    if not isinstance(tree, dict):\n",
    "        return tree \n",
    "    \n",
    "    feature = next(iter(tree))  \n",
    "    feature_value = patient[feature]  \n",
    "    \n",
    "\n",
    "    if feature_value in tree[feature]:\n",
    "        return predict(tree[feature][feature_value], patient)\n",
    "    else:\n",
    "        return \"Unknown\" \n",
    "\n",
    "\n",
    "patient = {\n",
    "    'Age': 50,\n",
    "    'Blood Pressure': 'Low',  \n",
    "    'Cholesterol': 'Normal'       \n",
    "}\n",
    "\n",
    "\n",
    "prediction = predict(decision_tree, patient)\n",
    "\n",
    "print(f\"The predicted diagnosis for the patient is: {prediction}\")\n"
   ]
  },
  {
   "cell_type": "code",
   "execution_count": 124,
   "id": "a75ba542",
   "metadata": {},
   "outputs": [
    {
     "name": "stdout",
     "output_type": "stream",
     "text": [
      "Feature Importances:\n",
      "Cholesterol: 1.0000\n",
      "Blood Pressure: 0.0000\n",
      "Age: 0.0000\n",
      "The predicted diagnosis for the patient is: Healthy\n"
     ]
    }
   ],
   "source": [
    "import pandas as pd\n",
    "from sklearn.tree import DecisionTreeClassifier, plot_tree\n",
    "import matplotlib.pyplot as plt\n",
    "\n",
    "\n",
    "data = {\n",
    "    'Age': [30, 45, 50, 35, 60, 55, 40, 25, 65, 45],\n",
    "    'Blood Pressure': ['High', 'Low', 'High', 'Low', 'High', 'Low', 'High', 'Low', 'High', 'Normal'],\n",
    "    'Cholesterol': ['High', 'Normal', 'High', 'Normal', 'High', 'Normal', 'High', 'Normal', 'High', 'Normal'],\n",
    "    'Diagnosis': ['Sick', 'Healthy', 'Sick', 'Healthy', 'Sick', 'Healthy', 'Sick', 'Healthy', 'Sick', 'Healthy']\n",
    "}\n",
    "\n",
    "\n",
    "df = pd.DataFrame(data)\n",
    "\n",
    "\n",
    "df['Blood Pressure'] = df['Blood Pressure'].map({'High': 1, 'Low': 0, 'Normal': 2})\n",
    "df['Cholesterol'] = df['Cholesterol'].map({'High': 1, 'Normal': 0})\n",
    "df['Diagnosis'] = df['Diagnosis'].map({'Sick': 1, 'Healthy': 0})\n",
    "\n",
    "\n",
    "X = df[['Age', 'Blood Pressure', 'Cholesterol']]\n",
    "y = df['Diagnosis']\n",
    "\n",
    "clf = DecisionTreeClassifier(criterion='entropy', random_state=0)\n",
    "clf.fit(X, y)\n",
    "\n",
    "\n",
    "\n",
    "\n",
    "importances = clf.feature_importances_\n",
    "feature_importances = sorted(zip(importances, X.columns), reverse=True)\n",
    "print(\"Feature Importances:\")\n",
    "for importance, feature in feature_importances:\n",
    "    print(f\"{feature}: {importance:.4f}\")\n",
    "\n",
    "\n",
    "patient = pd.DataFrame({'Age': [50], 'Blood Pressure': [0], 'Cholesterol': [0]})  # Low BP and Normal Cholesterol\n",
    "prediction = clf.predict(patient)\n",
    "\n",
    "diagnosis = 'Healthy' if prediction[0] == 0 else 'Sick'\n",
    "print(f\"The predicted diagnosis for the patient is: {diagnosis}\")\n"
   ]
  },
  {
   "cell_type": "code",
   "execution_count": null,
   "id": "27f8c3cb",
   "metadata": {},
   "outputs": [],
   "source": []
  }
 ],
 "metadata": {
  "kernelspec": {
   "display_name": "Python 3 (ipykernel)",
   "language": "python",
   "name": "python3"
  },
  "language_info": {
   "codemirror_mode": {
    "name": "ipython",
    "version": 3
   },
   "file_extension": ".py",
   "mimetype": "text/x-python",
   "name": "python",
   "nbconvert_exporter": "python",
   "pygments_lexer": "ipython3",
   "version": "3.12.3"
  }
 },
 "nbformat": 4,
 "nbformat_minor": 5
}
