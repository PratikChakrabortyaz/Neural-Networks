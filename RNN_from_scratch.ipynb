{
  "nbformat": 4,
  "nbformat_minor": 0,
  "metadata": {
    "colab": {
      "provenance": [],
      "authorship_tag": "ABX9TyNr35m+YCukQEE1V+581sR/",
      "include_colab_link": true
    },
    "kernelspec": {
      "name": "python3",
      "display_name": "Python 3"
    },
    "language_info": {
      "name": "python"
    }
  },
  "cells": [
    {
      "cell_type": "markdown",
      "metadata": {
        "id": "view-in-github",
        "colab_type": "text"
      },
      "source": [
        "<a href=\"https://colab.research.google.com/github/PratikChakrabortyaz/Neural-Networks/blob/main/RNN_from_scratch.ipynb\" target=\"_parent\"><img src=\"https://colab.research.google.com/assets/colab-badge.svg\" alt=\"Open In Colab\"/></a>"
      ]
    },
    {
      "cell_type": "markdown",
      "source": [
        "Importing of modules"
      ],
      "metadata": {
        "id": "9fGNMMIz9-vn"
      }
    },
    {
      "cell_type": "code",
      "execution_count": null,
      "metadata": {
        "id": "PvuF5A4O5fCu"
      },
      "outputs": [],
      "source": [
        "import numpy as np\n",
        "import matplotlib.pyplot as plt\n",
        "np.random.seed(42)"
      ]
    },
    {
      "cell_type": "markdown",
      "source": [
        "Hyperparameters initialization"
      ],
      "metadata": {
        "id": "1ejy9_8l-FZk"
      }
    },
    {
      "cell_type": "code",
      "source": [
        "input_size=2\n",
        "hidden_size=10\n",
        "output_size=1"
      ],
      "metadata": {
        "id": "WNhN98DM9BWF"
      },
      "execution_count": null,
      "outputs": []
    },
    {
      "cell_type": "markdown",
      "source": [
        "Weights and Biases initialization"
      ],
      "metadata": {
        "id": "QFszQTCW-Lzu"
      }
    },
    {
      "cell_type": "code",
      "source": [
        "W_hx=np.random.randn(hidden_size,input_size)*0.01\n",
        "W_hh=np.random.randn(hidden_size,hidden_size)*0.01\n",
        "W_yh=np.random.randn(output_size,hidden_size)*0.01\n",
        "b_h=np.zeros((hidden_size,1))\n",
        "b_y=np.zeros((output_size,1))"
      ],
      "metadata": {
        "id": "IyVO8PO795xI"
      },
      "execution_count": null,
      "outputs": []
    },
    {
      "cell_type": "markdown",
      "source": [],
      "metadata": {
        "id": "QnCswTdg990h"
      }
    },
    {
      "cell_type": "markdown",
      "source": [
        "Forward Propagation"
      ],
      "metadata": {
        "id": "22K6FoxLBX8D"
      }
    },
    {
      "cell_type": "code",
      "source": [
        "def rnn_next_step(x,h_prev,W_hx,W_hh,b_hh):\n",
        "  h_next=np.tanh(np.dot(W_hx,x)+np.dot(W_hh,h_prev)+b_h)\n",
        "  return h_next\n",
        "def rnn_forward(X,h0,W_hx,W_hh,b_h):\n",
        "  H=[]\n",
        "  h=h0\n",
        "  for t in range(X.shape[0]):\n",
        "    x_t=X[t].reshape(-1,1)\n",
        "    h=rnn_next_step(x_t,h,W_hx,W_hh,b_h)\n",
        "    H.append(h)\n",
        "  return np.array(H)\n"
      ],
      "metadata": {
        "id": "gNCpYe7SBafJ"
      },
      "execution_count": null,
      "outputs": []
    },
    {
      "cell_type": "markdown",
      "source": [
        "Output Layer"
      ],
      "metadata": {
        "id": "Z-UdSgjtEO-P"
      }
    },
    {
      "cell_type": "code",
      "source": [
        "def output_layer(H,W_hy,b_y):\n",
        "  Y=[]\n",
        "  for h in H:\n",
        "    y=np.dot(W_yh,h)+b_y\n",
        "    Y.append(y)\n",
        "  return np.array(Y)"
      ],
      "metadata": {
        "id": "dWQDEE7DD9so"
      },
      "execution_count": null,
      "outputs": []
    },
    {
      "cell_type": "markdown",
      "source": [
        "BPTT(Backpropagation through time)"
      ],
      "metadata": {
        "id": "XLUsgQobESE9"
      }
    },
    {
      "cell_type": "code",
      "source": [
        "def rnn_bptt(X,Y_true,H,Y_pred,W_hx,W_hh,W_yh):\n",
        "  dW_hx=np.zeros_like(W_hx)\n",
        "  dW_hh=np.zeros_like(W_hh)\n",
        "  dW_yh=np.zeros_like(W_yh)\n",
        "  db_h=np.zeros_like(b_h)\n",
        "  db_y=np.zeros_like(b_y)\n",
        "  dh_next=np.zeros_like(H[0])\n",
        "  for t in reversed(range(X.shape[0])):\n",
        "    dy=Y_pred[t]-Y_true[t].reshape(-1,1)\n",
        "    dW_yh+=np.dot(dy,H[t].T)\n",
        "    db_y+=dy\n",
        "    dh=np.dot(W_yh.T,dy)+dh_next\n",
        "    dh_raw=(1-H[t]**2)*dh\n",
        "    db_h+=dh_raw\n",
        "    dW_hx+=np.dot(dh_raw,X[t].reshape(-1,1).T)\n",
        "    dW_hh+=np.dot(dh_raw,H[t-1].T) if t>0 else np.zeros_like(dW_hh)\n",
        "    db_h+=dh_raw\n",
        "    dh_next=np.dot(W_hh.T,dh_raw)\n",
        "  return dW_hx,dW_hh,dW_yh,db_h,db_y\n"
      ],
      "metadata": {
        "id": "qW9-vYv7EXj8"
      },
      "execution_count": null,
      "outputs": []
    },
    {
      "cell_type": "markdown",
      "source": [
        "Dummy data"
      ],
      "metadata": {
        "id": "DfU5UefvIs8a"
      }
    },
    {
      "cell_type": "code",
      "source": [
        "sequence_length = 5\n",
        "X_dummy = np.random.randn(sequence_length, input_size)\n",
        "h0 = np.zeros((hidden_size, 1))\n",
        "Y_true_dummy = np.random.randn(sequence_length, output_size)"
      ],
      "metadata": {
        "id": "kz2ulVghImJs"
      },
      "execution_count": null,
      "outputs": []
    },
    {
      "cell_type": "markdown",
      "source": [
        "Training"
      ],
      "metadata": {
        "id": "ThkJzhOPI47B"
      }
    },
    {
      "cell_type": "code",
      "source": [
        "epochs=100\n",
        "alpha=0.01\n",
        "losses=[]\n",
        "for epoch in range(epochs):\n",
        "  H=rnn_forward(X_dummy,h0,W_hx,W_hh,b_h)\n",
        "  Y_pred=output_layer(H,W_yh,b_y)\n",
        "  loss=np.mean((Y_pred-Y_true_dummy)**2)\n",
        "  losses.append(loss)\n",
        "  dW_hx,dW_hh,dW_yh,db_h,db_y=rnn_bptt(X_dummy,Y_true_dummy,H,Y_pred,W_hx,W_hh,W_yh)\n",
        "  W_hx-=alpha*dW_hx\n",
        "  W_hh-=alpha*dW_hh\n",
        "  W_yh-=alpha*dW_yh\n",
        "  b_h-=alpha*db_h\n",
        "  b_y-=alpha*db_y\n",
        "  if epoch%10==0:\n",
        "    print(f\"Epoch {epoch}, Loss: {loss}\")\n",
        "print(\"Training Complete\")"
      ],
      "metadata": {
        "colab": {
          "base_uri": "https://localhost:8080/"
        },
        "id": "taiaOpTZI7K7",
        "outputId": "563d406e-a282-4963-ee53-a32af61a3307"
      },
      "execution_count": null,
      "outputs": [
        {
          "output_type": "stream",
          "name": "stdout",
          "text": [
            "Epoch 0, Loss: 0.8891692189101172\n",
            "Epoch 10, Loss: 0.8856366168997247\n",
            "Epoch 20, Loss: 0.8843745781981476\n",
            "Epoch 30, Loss: 0.8839253953272249\n",
            "Epoch 40, Loss: 0.8837693821240217\n",
            "Epoch 50, Loss: 0.8837243530562325\n",
            "Epoch 60, Loss: 0.8837343430925153\n",
            "Epoch 70, Loss: 0.8838015079373376\n",
            "Epoch 80, Loss: 0.8839782342221275\n",
            "Epoch 90, Loss: 0.8843980109221462\n",
            "Training Complete\n"
          ]
        }
      ]
    },
    {
      "cell_type": "markdown",
      "source": [
        "Plotting the Loss vs Epoch"
      ],
      "metadata": {
        "id": "-hSQm6ZtL8GN"
      }
    },
    {
      "cell_type": "code",
      "source": [
        "plt.plot(range(epochs), losses)\n",
        "plt.xlabel('Epoch')\n",
        "plt.ylabel('Loss')\n",
        "plt.title('Error vs. Epoch')\n",
        "plt.show()"
      ],
      "metadata": {
        "colab": {
          "base_uri": "https://localhost:8080/",
          "height": 472
        },
        "id": "nOQ-LzDgJiED",
        "outputId": "f35eb50e-6216-4185-91e5-38fc631cf7cd"
      },
      "execution_count": null,
      "outputs": [
        {
          "output_type": "display_data",
          "data": {
            "text/plain": [
              "<Figure size 640x480 with 1 Axes>"
            ],
            "image/png": "[encoded data removed]"
          },
          "metadata": {}
        }
      ]
    }
  ]
}